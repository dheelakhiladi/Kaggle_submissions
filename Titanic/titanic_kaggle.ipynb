{
  "nbformat": 4,
  "nbformat_minor": 0,
  "metadata": {
    "colab": {
      "name": "titanic_kaggle.ipynb",
      "provenance": [],
      "collapsed_sections": []
    },
    "kernelspec": {
      "name": "python3",
      "display_name": "Python 3"
    }
  },
  "cells": [
    {
      "cell_type": "code",
      "metadata": {
        "id": "2_jTAkBsZBuw"
      },
      "source": [
        "import pandas as pd\r\n",
        "import numpy as np\r\n",
        "import matplotlib.pyplot as plt"
      ],
      "execution_count": 1,
      "outputs": []
    },
    {
      "cell_type": "code",
      "metadata": {
        "colab": {
          "base_uri": "https://localhost:8080/"
        },
        "id": "rfMaNqA-64ni",
        "outputId": "8b7942a4-5496-4089-e888-05a3e9e6a793"
      },
      "source": [
        "train_dataset = pd.read_csv('train.csv')\r\n",
        "test_dataset = pd.read_csv('test.csv')\r\n",
        "train_dataset = train_dataset.drop(['Cabin','Name','Ticket','PassengerId'],axis = 1)\r\n",
        "train_dataset.info()"
      ],
      "execution_count": 128,
      "outputs": [
        {
          "output_type": "stream",
          "text": [
            "<class 'pandas.core.frame.DataFrame'>\n",
            "RangeIndex: 891 entries, 0 to 890\n",
            "Data columns (total 8 columns):\n",
            " #   Column    Non-Null Count  Dtype  \n",
            "---  ------    --------------  -----  \n",
            " 0   Survived  891 non-null    int64  \n",
            " 1   Pclass    891 non-null    int64  \n",
            " 2   Sex       891 non-null    object \n",
            " 3   Age       714 non-null    float64\n",
            " 4   SibSp     891 non-null    int64  \n",
            " 5   Parch     891 non-null    int64  \n",
            " 6   Fare      891 non-null    float64\n",
            " 7   Embarked  889 non-null    object \n",
            "dtypes: float64(2), int64(4), object(2)\n",
            "memory usage: 55.8+ KB\n"
          ],
          "name": "stdout"
        }
      ]
    },
    {
      "cell_type": "code",
      "metadata": {
        "id": "_D4XHHV8B5N8"
      },
      "source": [
        "from sklearn.impute import SimpleImputer\r\n",
        "imputer = SimpleImputer(missing_values = np.nan, strategy = 'median')\r\n",
        "imputer.fit(train_dataset.iloc[:,3:4])\r\n",
        "train_dataset.iloc[:,3:4] = imputer.transform(train_dataset.iloc[:,3:4])\r\n",
        "train_dataset = train_dataset.loc[train_dataset['Embarked'].notna()]\r\n",
        "X_train = train_dataset.iloc[:,1:]\r\n",
        "Y_train = train_dataset.iloc[:,0]"
      ],
      "execution_count": 129,
      "outputs": []
    },
    {
      "cell_type": "code",
      "metadata": {
        "id": "Eyy5eGD_dMP9"
      },
      "source": [
        "X_train['Age'] = X_train['Age'].fillna(0)\r\n",
        "X_train['Fare'] = X_train['Fare'].fillna(0)"
      ],
      "execution_count": null,
      "outputs": []
    },
    {
      "cell_type": "code",
      "metadata": {
        "colab": {
          "base_uri": "https://localhost:8080/"
        },
        "id": "YW0Y11iG_4O4",
        "outputId": "491b0a49-cb69-4a41-a231-bd21cc837c07"
      },
      "source": [
        "X_train.corrwith(Y_train)"
      ],
      "execution_count": 130,
      "outputs": [
        {
          "output_type": "execute_result",
          "data": {
            "text/plain": [
              "Pclass   -0.335549\n",
              "Age      -0.069822\n",
              "SibSp    -0.034040\n",
              "Parch     0.083151\n",
              "Fare      0.255290\n",
              "dtype: float64"
            ]
          },
          "metadata": {
            "tags": []
          },
          "execution_count": 130
        }
      ]
    },
    {
      "cell_type": "code",
      "metadata": {
        "colab": {
          "base_uri": "https://localhost:8080/"
        },
        "id": "jkeBUGb492m-",
        "outputId": "8fcf6ded-e771-4b82-99fd-34b025a38b21"
      },
      "source": [
        "X_train.info()"
      ],
      "execution_count": 131,
      "outputs": [
        {
          "output_type": "stream",
          "text": [
            "<class 'pandas.core.frame.DataFrame'>\n",
            "Int64Index: 889 entries, 0 to 890\n",
            "Data columns (total 7 columns):\n",
            " #   Column    Non-Null Count  Dtype  \n",
            "---  ------    --------------  -----  \n",
            " 0   Pclass    889 non-null    int64  \n",
            " 1   Sex       889 non-null    object \n",
            " 2   Age       889 non-null    float64\n",
            " 3   SibSp     889 non-null    int64  \n",
            " 4   Parch     889 non-null    int64  \n",
            " 5   Fare      889 non-null    float64\n",
            " 6   Embarked  889 non-null    object \n",
            "dtypes: float64(2), int64(3), object(2)\n",
            "memory usage: 55.6+ KB\n"
          ],
          "name": "stdout"
        }
      ]
    },
    {
      "cell_type": "code",
      "metadata": {
        "colab": {
          "base_uri": "https://localhost:8080/"
        },
        "id": "hrIs4LzNkrz8",
        "outputId": "537e3fae-0986-44eb-f5f9-8a4bd74cbc8c"
      },
      "source": [
        "from sklearn.preprocessing import OneHotEncoder\r\n",
        "from sklearn.compose import ColumnTransformer\r\n",
        "X_train = X_train.values\r\n",
        "Y_train = Y_train.values\r\n",
        "ct_embarked = ColumnTransformer(transformers=[('encoder',OneHotEncoder(),[6,1])],remainder='passthrough')\r\n",
        "X_train = np.array(ct_embarked.fit_transform(X_train))\r\n",
        "X_train"
      ],
      "execution_count": 132,
      "outputs": [
        {
          "output_type": "execute_result",
          "data": {
            "text/plain": [
              "array([[0.0, 0.0, 1.0, ..., 1, 0, 7.25],\n",
              "       [1.0, 0.0, 0.0, ..., 1, 0, 71.2833],\n",
              "       [0.0, 0.0, 1.0, ..., 0, 0, 7.925],\n",
              "       ...,\n",
              "       [0.0, 0.0, 1.0, ..., 1, 2, 23.45],\n",
              "       [1.0, 0.0, 0.0, ..., 0, 0, 30.0],\n",
              "       [0.0, 1.0, 0.0, ..., 0, 0, 7.75]], dtype=object)"
            ]
          },
          "metadata": {
            "tags": []
          },
          "execution_count": 132
        }
      ]
    },
    {
      "cell_type": "code",
      "metadata": {
        "id": "k047WD3K0rTO"
      },
      "source": [
        "from sklearn.preprocessing import StandardScaler\r\n",
        "sc = StandardScaler()\r\n",
        "X_train[:,[2,6]] = sc.fit_transform(X_train[:,[2,6]])"
      ],
      "execution_count": 46,
      "outputs": []
    },
    {
      "cell_type": "code",
      "metadata": {
        "id": "lcUIWCt5IaSB"
      },
      "source": [
        "from sklearn.model_selection import train_test_split\r\n",
        "x_train,x_test,y_train,y_test = train_test_split(X_train,Y_train,test_size = 0.2, random_state = 1)"
      ],
      "execution_count": 133,
      "outputs": []
    },
    {
      "cell_type": "code",
      "metadata": {
        "colab": {
          "base_uri": "https://localhost:8080/"
        },
        "id": "mOl-9iycpQ76",
        "outputId": "685ce5dd-9f4b-4fad-ff2d-30719a10804b"
      },
      "source": [
        "from sklearn.metrics import accuracy_score\r\n",
        "from sklearn.ensemble import RandomForestClassifier\r\n",
        "rf_classifier = RandomForestClassifier(n_estimators = 1000,max_depth=5,random_state = 1)\r\n",
        "rf_classifier.fit(x_train,y_train)\r\n",
        "y_pred = rf_classifier.predict(x_test)\r\n",
        "accuracy_score(y_test,y_pred)"
      ],
      "execution_count": 170,
      "outputs": [
        {
          "output_type": "execute_result",
          "data": {
            "text/plain": [
              "0.8370786516853933"
            ]
          },
          "metadata": {
            "tags": []
          },
          "execution_count": 170
        }
      ]
    },
    {
      "cell_type": "code",
      "metadata": {
        "colab": {
          "base_uri": "https://localhost:8080/"
        },
        "id": "ses2n9Q2IGkb",
        "outputId": "c54d9a51-8e57-41c5-8487-f1fb07aab5c9"
      },
      "source": [
        "from sklearn.linear_model import LogisticRegression\r\n",
        "from sklearn.neighbors import KNeighborsClassifier\r\n",
        "from sklearn.svm import SVC\r\n",
        "from sklearn.ensemble import StackingClassifier\r\n",
        "estimators = [('knn',KNeighborsClassifier(n_neighbors = 5)),\r\n",
        "              ('svc',SVC(kernel='rbf')),\r\n",
        "              ('lr',LogisticRegression())]\r\n",
        "st_classifier = StackingClassifier(estimators = estimators, final_estimator = rf_classifier,n_jobs = -1)\r\n",
        "st_classifier.fit(x_train,y_train)\r\n",
        "y_pred = st_classifier.predict(x_test)\r\n",
        "accuracy_score(y_test,y_pred)"
      ],
      "execution_count": 161,
      "outputs": [
        {
          "output_type": "execute_result",
          "data": {
            "text/plain": [
              "0.8426966292134831"
            ]
          },
          "metadata": {
            "tags": []
          },
          "execution_count": 161
        }
      ]
    },
    {
      "cell_type": "code",
      "metadata": {
        "colab": {
          "base_uri": "https://localhost:8080/"
        },
        "id": "ghCEl0VsbNZQ",
        "outputId": "cde703b2-1bc3-4193-8348-aae8f98cf898"
      },
      "source": [
        "X_test = pd.read_csv('test.csv')\r\n",
        "X_test = X_test.drop(['PassengerId','Name','Cabin','Ticket'],axis =1)\r\n",
        "X_test.info()"
      ],
      "execution_count": 150,
      "outputs": [
        {
          "output_type": "stream",
          "text": [
            "<class 'pandas.core.frame.DataFrame'>\n",
            "RangeIndex: 418 entries, 0 to 417\n",
            "Data columns (total 7 columns):\n",
            " #   Column    Non-Null Count  Dtype  \n",
            "---  ------    --------------  -----  \n",
            " 0   Pclass    418 non-null    int64  \n",
            " 1   Sex       418 non-null    object \n",
            " 2   Age       332 non-null    float64\n",
            " 3   SibSp     418 non-null    int64  \n",
            " 4   Parch     418 non-null    int64  \n",
            " 5   Fare      417 non-null    float64\n",
            " 6   Embarked  418 non-null    object \n",
            "dtypes: float64(2), int64(3), object(2)\n",
            "memory usage: 23.0+ KB\n"
          ],
          "name": "stdout"
        }
      ]
    },
    {
      "cell_type": "code",
      "metadata": {
        "id": "S-wdz4PIsix7",
        "colab": {
          "base_uri": "https://localhost:8080/",
          "height": 204
        },
        "outputId": "fad24d43-712d-4d78-f1f7-c68f54d3bfda"
      },
      "source": [
        "X_test = pd.read_csv('test.csv')\r\n",
        "X_test = X_test.drop(['PassengerId','Name','Cabin','Ticket'],axis =1)\r\n",
        "from sklearn.impute import SimpleImputer\r\n",
        "imputer = SimpleImputer(missing_values = np.nan, strategy = 'median')\r\n",
        "imputer.fit(X_test.iloc[:,2:3])\r\n",
        "X_test.iloc[:,2:3] = imputer.transform(X_test.iloc[:,2:3])\r\n",
        "imputer_fare = SimpleImputer(missing_values = np.nan, strategy = 'mean')\r\n",
        "imputer_fare.fit(X_test.iloc[:,5:6])\r\n",
        "X_test.iloc[:,5:6] = imputer_fare.transform(X_test.iloc[:,5:6])\r\n",
        "#X_test.iloc[:,[6,2]] = sc.transform(X_test.iloc[:,[6,2]])\r\n",
        "X_test.head()"
      ],
      "execution_count": 153,
      "outputs": [
        {
          "output_type": "execute_result",
          "data": {
            "text/html": [
              "<div>\n",
              "<style scoped>\n",
              "    .dataframe tbody tr th:only-of-type {\n",
              "        vertical-align: middle;\n",
              "    }\n",
              "\n",
              "    .dataframe tbody tr th {\n",
              "        vertical-align: top;\n",
              "    }\n",
              "\n",
              "    .dataframe thead th {\n",
              "        text-align: right;\n",
              "    }\n",
              "</style>\n",
              "<table border=\"1\" class=\"dataframe\">\n",
              "  <thead>\n",
              "    <tr style=\"text-align: right;\">\n",
              "      <th></th>\n",
              "      <th>Pclass</th>\n",
              "      <th>Sex</th>\n",
              "      <th>Age</th>\n",
              "      <th>SibSp</th>\n",
              "      <th>Parch</th>\n",
              "      <th>Fare</th>\n",
              "      <th>Embarked</th>\n",
              "    </tr>\n",
              "  </thead>\n",
              "  <tbody>\n",
              "    <tr>\n",
              "      <th>0</th>\n",
              "      <td>3</td>\n",
              "      <td>male</td>\n",
              "      <td>34.5</td>\n",
              "      <td>0</td>\n",
              "      <td>0</td>\n",
              "      <td>7.8292</td>\n",
              "      <td>Q</td>\n",
              "    </tr>\n",
              "    <tr>\n",
              "      <th>1</th>\n",
              "      <td>3</td>\n",
              "      <td>female</td>\n",
              "      <td>47.0</td>\n",
              "      <td>1</td>\n",
              "      <td>0</td>\n",
              "      <td>7.0000</td>\n",
              "      <td>S</td>\n",
              "    </tr>\n",
              "    <tr>\n",
              "      <th>2</th>\n",
              "      <td>2</td>\n",
              "      <td>male</td>\n",
              "      <td>62.0</td>\n",
              "      <td>0</td>\n",
              "      <td>0</td>\n",
              "      <td>9.6875</td>\n",
              "      <td>Q</td>\n",
              "    </tr>\n",
              "    <tr>\n",
              "      <th>3</th>\n",
              "      <td>3</td>\n",
              "      <td>male</td>\n",
              "      <td>27.0</td>\n",
              "      <td>0</td>\n",
              "      <td>0</td>\n",
              "      <td>8.6625</td>\n",
              "      <td>S</td>\n",
              "    </tr>\n",
              "    <tr>\n",
              "      <th>4</th>\n",
              "      <td>3</td>\n",
              "      <td>female</td>\n",
              "      <td>22.0</td>\n",
              "      <td>1</td>\n",
              "      <td>1</td>\n",
              "      <td>12.2875</td>\n",
              "      <td>S</td>\n",
              "    </tr>\n",
              "  </tbody>\n",
              "</table>\n",
              "</div>"
            ],
            "text/plain": [
              "   Pclass     Sex   Age  SibSp  Parch     Fare Embarked\n",
              "0       3    male  34.5      0      0   7.8292        Q\n",
              "1       3  female  47.0      1      0   7.0000        S\n",
              "2       2    male  62.0      0      0   9.6875        Q\n",
              "3       3    male  27.0      0      0   8.6625        S\n",
              "4       3  female  22.0      1      1  12.2875        S"
            ]
          },
          "metadata": {
            "tags": []
          },
          "execution_count": 153
        }
      ]
    },
    {
      "cell_type": "code",
      "metadata": {
        "id": "-S-ZnKkOt5HQ",
        "colab": {
          "base_uri": "https://localhost:8080/"
        },
        "outputId": "be6d0518-d88b-4fec-92ae-289117cbc68b"
      },
      "source": [
        "X_test.info()"
      ],
      "execution_count": 154,
      "outputs": [
        {
          "output_type": "stream",
          "text": [
            "<class 'pandas.core.frame.DataFrame'>\n",
            "RangeIndex: 418 entries, 0 to 417\n",
            "Data columns (total 7 columns):\n",
            " #   Column    Non-Null Count  Dtype  \n",
            "---  ------    --------------  -----  \n",
            " 0   Pclass    418 non-null    int64  \n",
            " 1   Sex       418 non-null    object \n",
            " 2   Age       418 non-null    float64\n",
            " 3   SibSp     418 non-null    int64  \n",
            " 4   Parch     418 non-null    int64  \n",
            " 5   Fare      418 non-null    float64\n",
            " 6   Embarked  418 non-null    object \n",
            "dtypes: float64(2), int64(3), object(2)\n",
            "memory usage: 23.0+ KB\n"
          ],
          "name": "stdout"
        }
      ]
    },
    {
      "cell_type": "code",
      "metadata": {
        "id": "MGCGbU9ptwRa"
      },
      "source": [
        "X_test = np.array(ct_embarked.transform(X_test))"
      ],
      "execution_count": 156,
      "outputs": []
    },
    {
      "cell_type": "code",
      "metadata": {
        "id": "kir9J2s68O2H"
      },
      "source": [
        "rf_classifier.fit(X_train,Y_train)\r\n",
        "y_rf_pred_entropy = rf_classifier.predict(X_test)"
      ],
      "execution_count": 162,
      "outputs": []
    },
    {
      "cell_type": "code",
      "metadata": {
        "id": "gFQDtSUBcefT"
      },
      "source": [
        "st_classifier.fit(X_train,Y_train)\r\n",
        "y_pred_st = st_classifier.predict(X_test)"
      ],
      "execution_count": 166,
      "outputs": []
    },
    {
      "cell_type": "code",
      "metadata": {
        "id": "IpTpq7mkepBL"
      },
      "source": [
        "test_csv = pd.read_csv('test.csv')\r\n",
        "result_df = pd.DataFrame(zip(test_csv['PassengerId'].values,y_rf_pred_entropy),columns=['PassengerId','Survived'])\r\n",
        "result_df.to_csv('prediction_by_rf.csv',index=False)"
      ],
      "execution_count": 167,
      "outputs": []
    },
    {
      "cell_type": "code",
      "metadata": {
        "id": "ch6pQNeCGvy0"
      },
      "source": [
        "test_csv = pd.read_csv('test.csv')\r\n",
        "result_df = pd.DataFrame(zip(test_csv['PassengerId'].values,y_pred_st),columns=['PassengerId','Survived'])\r\n",
        "result_df.to_csv('prediction_by_Stacking.csv',index=False)"
      ],
      "execution_count": 165,
      "outputs": []
    }
  ]
}